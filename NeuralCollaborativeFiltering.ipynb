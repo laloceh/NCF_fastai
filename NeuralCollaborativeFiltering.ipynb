{
 "cells": [
  {
   "cell_type": "code",
   "execution_count": 15,
   "metadata": {
    "collapsed": true,
    "pycharm": {
     "is_executing": false
    }
   },
   "outputs": [
    {
     "name": "stdout",
     "text": [
      "Imported!\n"
     ],
     "output_type": "stream"
    }
   ],
   "source": [
    "import torch\n",
    "import pandas as pd\n",
    "from fastai.collab import CollabDataBunch, collab_learner\n",
    "\n",
    "print(\"Imported!\")"
   ]
  },
  {
   "cell_type": "code",
   "execution_count": 7,
   "outputs": [
    {
     "name": "stdout",
     "text": [
      "    uid  iid  rating\n",
      "0   252    1     4.0\n",
      "1   934    1     5.0\n",
      "2  1195    1     4.0\n",
      "3   772    1     5.0\n",
      "4  1599    1     5.0\n",
      "0 6.0\n"
     ],
     "output_type": "stream"
    }
   ],
   "source": [
    "ratings_df = pd.read_csv('ratings.csv')\n",
    "print(ratings_df.head())\n",
    "\n",
    "min_range = 0\n",
    "max_range = max(ratings_df['rating']) + 1\n",
    "print(min_range, max_range)"
   ],
   "metadata": {
    "collapsed": false,
    "pycharm": {
     "name": "#%%\n",
     "is_executing": false
    }
   }
  },
  {
   "cell_type": "code",
   "execution_count": 5,
   "outputs": [
    {
     "data": {
      "text/plain": "<IPython.core.display.HTML object>",
      "text/html": "<table border=\"1\" class=\"dataframe\">\n  <thead>\n    <tr style=\"text-align: right;\">\n      <th>uid</th>\n      <th>iid</th>\n      <th>target</th>\n    </tr>\n  </thead>\n  <tbody>\n    <tr>\n      <td>1131</td>\n      <td>909</td>\n      <td>5.0</td>\n    </tr>\n    <tr>\n      <td>1677</td>\n      <td>298</td>\n      <td>5.0</td>\n    </tr>\n    <tr>\n      <td>486</td>\n      <td>889</td>\n      <td>5.0</td>\n    </tr>\n    <tr>\n      <td>1558</td>\n      <td>306</td>\n      <td>5.0</td>\n    </tr>\n    <tr>\n      <td>2</td>\n      <td>688</td>\n      <td>5.0</td>\n    </tr>\n  </tbody>\n</table>"
     },
     "metadata": {},
     "output_type": "display_data"
    },
    {
     "name": "stdout",
     "text": [
      "None\n"
     ],
     "output_type": "stream"
    }
   ],
   "source": [
    "data = CollabDataBunch.from_df(ratings_df, valid_pct=0.1)\n",
    "print(data.show_batch())"
   ],
   "metadata": {
    "collapsed": false,
    "pycharm": {
     "name": "#%%\n",
     "is_executing": false
    }
   }
  },
  {
   "cell_type": "code",
   "execution_count": 8,
   "outputs": [],
   "source": [
    "learn = collab_learner(data, n_factors=40, y_range= [min_range, max_range], wd=.1)"
   ],
   "metadata": {
    "collapsed": false,
    "pycharm": {
     "name": "#%%\n",
     "is_executing": false
    }
   }
  },
  {
   "cell_type": "code",
   "execution_count": 9,
   "outputs": [
    {
     "data": {
      "text/plain": "<IPython.core.display.HTML object>",
      "text/html": "\n    <div>\n        <style>\n            /* Turns off some styling */\n            progress {\n                /* gets rid of default border in Firefox and Opera. */\n                border: none;\n                /* Needs to be in here for Safari polyfill so background images work as expected. */\n                background-size: auto;\n            }\n            .progress-bar-interrupted, .progress-bar-interrupted::-webkit-progress-bar {\n                background: #F44336;\n            }\n        </style>\n      <progress value='0' class='' max='1', style='width:300px; height:20px; vertical-align: middle;'></progress>\n      \n    </div>\n    \n"
     },
     "metadata": {},
     "output_type": "display_data"
    },
    {
     "name": "stdout",
     "text": [
      "LR Finder is complete, type {learner_name}.recorder.plot() to see the graph.\n"
     ],
     "output_type": "stream"
    },
    {
     "data": {
      "text/plain": "<Figure size 432x288 with 1 Axes>",
      "image/png": "[encoded data removed]"
     },
     "metadata": {
      "needs_background": "light"
     },
     "output_type": "display_data"
    }
   ],
   "source": [
    "learn.lr_find()\n",
    "learn.recorder.plot(skip_end = 15)"
   ],
   "metadata": {
    "collapsed": false,
    "pycharm": {
     "name": "#%%\n",
     "is_executing": false
    }
   }
  },
  {
   "cell_type": "code",
   "execution_count": 27,
   "outputs": [
    {
     "data": {
      "text/plain": "<IPython.core.display.HTML object>",
      "text/html": "\n    <div>\n        <style>\n            /* Turns off some styling */\n            progress {\n                /* gets rid of default border in Firefox and Opera. */\n                border: none;\n                /* Needs to be in here for Safari polyfill so background images work as expected. */\n                background-size: auto;\n            }\n            .progress-bar-interrupted, .progress-bar-interrupted::-webkit-progress-bar {\n                background: #F44336;\n            }\n        </style>\n      <progress value='0' class='' max='5', style='width:300px; height:20px; vertical-align: middle;'></progress>\n      \n    </div>\n    \n"
     },
     "metadata": {},
     "output_type": "display_data"
    },
    {
     "name": "stdout",
     "text": [
      "CPU times: user 12.5 s, sys: 1.16 s, total: 13.6 s\n",
      "Wall time: 16.8 s\n"
     ],
     "output_type": "stream"
    }
   ],
   "source": [
    "%%time\n",
    "learn.fit_one_cycle(5, 0.01)"
   ],
   "metadata": {
    "collapsed": false,
    "pycharm": {
     "name": "#%%\n",
     "is_executing": false
    }
   }
  },
  {
   "cell_type": "code",
   "execution_count": 11,
   "outputs": [
    {
     "name": "stdout",
     "text": [
      "(tensor([ 534, 1274,  210, 1347,  803,  426,  168,  656,  967,  644, 1148, 1332,\n",
      "         748,  307, 1541,   79,  124,  183,  291,  963, 1577, 1597, 1128,   95,\n",
      "         192,  800, 1475,  425, 1287, 1239, 1513,  397,  876,  639,  843, 1471,\n",
      "         284, 1228, 1631, 1515, 1507,  892, 1302, 1321, 1076,  266, 1393,  412,\n",
      "        1465, 1620, 1654,  540,  200, 1586,  634, 1121, 1095, 1597,  604,  468,\n",
      "        1177,  793,   23, 1131]), tensor([551, 405, 869, 906,  20, 497, 583, 381, 850, 875, 491,  83,  59, 581,\n",
      "         67, 765, 508, 399, 563,  75, 477, 643, 870, 793, 505, 274, 657, 938,\n",
      "        710,  93, 723, 810, 168, 932, 593, 750, 795, 795, 230, 666, 103, 589,\n",
      "        126, 178, 287, 149,  67, 766, 527, 879, 260, 562, 177, 906, 577, 422,\n",
      "        789, 689, 686, 324, 430, 301, 725, 950])) tensor([2., 4., 4., 1., 3., 5., 5., 3., 2., 4., 5., 2., 4., 5., 3., 4., 5., 5.,\n",
      "        4., 4., 5., 3., 4., 4., 5., 5., 4., 4., 2., 4., 4., 2., 5., 5., 5., 5.,\n",
      "        4., 5., 4., 3., 5., 4., 5., 5., 5., 5., 4., 5., 4., 3., 5., 2., 5., 3.,\n",
      "        5., 5., 5., 5., 3., 5., 5., 5., 2., 5.])\n"
     ],
     "output_type": "stream"
    }
   ],
   "source": [
    "(users, items), ratings = next(iter(data.valid_dl))\n",
    "print((users, items), ratings)"
   ],
   "metadata": {
    "collapsed": false,
    "pycharm": {
     "name": "#%%\n",
     "is_executing": false
    }
   }
  },
  {
   "cell_type": "code",
   "execution_count": 26,
   "outputs": [
    {
     "name": "stdout",
     "text": [
      "[3.965163230895996, 3.831221103668213, 4.080068588256836]\n"
     ],
     "output_type": "stream"
    }
   ],
   "source": [
    "user = [534, 1274, 210]\n",
    "item = [551, 405, 869]\n",
    "\n",
    "tensor_user = torch.LongTensor(user)\n",
    "tensor_item = torch.LongTensor(item)\n",
    "\n",
    "preds = learn.model(tensor_user, tensor_item).tolist()\n",
    "print(preds)"
   ],
   "metadata": {
    "collapsed": false,
    "pycharm": {
     "name": "#%%\n",
     "is_executing": false
    }
   }
  },
  {
   "cell_type": "code",
   "execution_count": null,
   "outputs": [],
   "source": [],
   "metadata": {
    "collapsed": false,
    "pycharm": {
     "name": "#%%\n"
    }
   }
  }
 ],
 "metadata": {
  "kernelspec": {
   "display_name": "Python 3",
   "language": "python",
   "name": "python3"
  },
  "language_info": {
   "codemirror_mode": {
    "name": "ipython",
    "version": 2
   },
   "file_extension": ".py",
   "mimetype": "text/x-python",
   "name": "python",
   "nbconvert_exporter": "python",
   "pygments_lexer": "ipython2",
   "version": "2.7.6"
  },
  "pycharm": {
   "stem_cell": {
    "cell_type": "raw",
    "source": [],
    "metadata": {
     "collapsed": false
    }
   }
  }
 },
 "nbformat": 4,
 "nbformat_minor": 0
}